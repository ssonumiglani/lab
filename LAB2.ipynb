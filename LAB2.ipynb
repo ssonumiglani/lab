{
 "cells": [
  {
   "cell_type": "code",
   "execution_count": 1,
   "id": "7af94756",
   "metadata": {},
   "outputs": [],
   "source": [
    "import matplotlib.pyplot as plt\n",
    "import pandas as pd\n",
    "import seaborn as sns\n",
    "import numpy as np\n",
    "from random import randint"
   ]
  },
  {
   "cell_type": "code",
   "execution_count": 2,
   "id": "238eb867",
   "metadata": {},
   "outputs": [],
   "source": [
    "# Load the data\n",
    "df = pd.read_csv('https://raw.githubusercontent.com/albanda/CE888/master/lab2%20-%20bootstrap/customers.csv')\n",
    "data = df.values.T[1]"
   ]
  },
  {
   "cell_type": "code",
   "execution_count": 3,
   "id": "77a1d491",
   "metadata": {},
   "outputs": [],
   "source": [
    "# Checking the notes from the lecture, create here your own bootstrap function:\n",
    "# 1. Sample from the input array x to create an array of samples of shape (n_bootstraps, sample_size)\n",
    "# Hint: Check the function random.choice() on Numpy\n",
    "# 2. Calculate and save the mean of the array (this is \"data_mean\" that is returned by the function)\n",
    "# 3. Calculate the mean from each bootstrap (i.e., row) and store it.\n",
    "# (This should be an array of n_bootstraps values)\n",
    "# 4. Calculate the lower and upper bounds for a 95% CI (hint: check the percentile function on Numpy)\n",
    "# 5. Return data_mean, and the lower and upper bounds of your interval\n",
    "def bootstrap_mean(x, sample_size, n_bootstraps):\n",
    "\t# <---INSERT YOUR CODE HERE--->\n",
    "  x = np.array(x)\n",
    "  bootstrap_array = np.random.choice(x, size = (n_bootstraps,sample_size),replace = True)\n",
    "  data_mean = bootstrap_array.mean()\n",
    "  mean_array = []\n",
    "  for i in range(bootstrap_array.shape[0]):\n",
    "    mean_array.append(bootstrap_array[i].mean())\n",
    "  mean_array.sort()\n",
    "  lower = np.percentile(mean_array,2.5)\n",
    "  upper = np.percentile(mean_array,97.5)\n",
    "  return data_mean, lower, upper"
   ]
  },
  {
   "cell_type": "code",
   "execution_count": 4,
   "id": "035b54c3",
   "metadata": {},
   "outputs": [
    {
     "name": "stdout",
     "output_type": "stream",
     "text": [
      "[ 2.  8. 20. 13.  5.  9. 10.  8. 22. 10.  2.  4.  7.  9.]\n"
     ]
    },
    {
     "name": "stderr",
     "output_type": "stream",
     "text": [
      "C:\\Users\\pc\\anaconda3\\lib\\site-packages\\seaborn\\_decorators.py:36: FutureWarning: Pass the following variables as keyword args: x, y. From version 0.12, the only valid positional argument will be `data`, and passing other arguments without an explicit keyword will result in an error or misinterpretation.\n",
      "  warnings.warn(\n"
     ]
    },
    {
     "data": {
      "text/plain": [
       "(0.0, 50000.0)"
      ]
     },
     "execution_count": 4,
     "metadata": {},
     "output_type": "execute_result"
    },
    {
     "data": {
      "image/png": "[encoded data removed]",
      "text/plain": [
       "<Figure size 425.125x360 with 1 Axes>"
      ]
     },
     "metadata": {
      "needs_background": "light"
     },
     "output_type": "display_data"
    }
   ],
   "source": [
    "# Call your bootstrap function and plot the results\n",
    "\n",
    "boots = []\n",
    "print(data)\n",
    "for i in range(100, 50000, 1000):\n",
    "    boot = bootstrap_mean(data, data.shape[0], i)\n",
    "    boots.append([i, boot[0], \"mean\"])\n",
    "    boots.append([i, boot[1], \"lower\"])\n",
    "    boots.append([i, boot[2], \"upper\"])\n",
    "\n",
    "df_boot = pd.DataFrame(boots, columns=['Bootstrap Iterations', 'Mean', \"Value\"])\n",
    "sns_plot = sns.lmplot(df_boot.columns[0], df_boot.columns[1], data=df_boot, fit_reg=False, hue=\"Value\")\n",
    "\n",
    "sns_plot.axes[0, 0].set_ylim(0,)\n",
    "sns_plot.axes[0, 0].set_xlim(0, 50000)"
   ]
  },
  {
   "cell_type": "code",
   "execution_count": 5,
   "id": "d6cc0a11",
   "metadata": {},
   "outputs": [],
   "source": [
    "def bootstrap_mean_ci(sample, sample_size, n_bootstraps, ci):\n",
    "\t# <---INSERT YOUR CODE HERE--->\n",
    "  mean_array = []\n",
    "  sample = np.array(sample)\n",
    "  bootstrap_array = np.random.choice(sample, size = (n_bootstraps,sample_size),replace = True)\n",
    "  data_mean = bootstrap_array.mean()\n",
    "  mean_array = []\n",
    "  for i in range(bootstrap_array.shape[0]):\n",
    "    mean_array.append(bootstrap_array[i].mean())\n",
    "  mean_array.sort()\n",
    "  lower = np.percentile(mean_array,(100 - ci)/2)\n",
    "  upper = np.percentile(mean_array,ci+((100 - ci)/2))\n",
    "  return data_mean, lower, upper"
   ]
  },
  {
   "cell_type": "code",
   "execution_count": 6,
   "id": "4d190168",
   "metadata": {},
   "outputs": [
    {
     "name": "stderr",
     "output_type": "stream",
     "text": [
      "C:\\Users\\pc\\anaconda3\\lib\\site-packages\\seaborn\\_decorators.py:36: FutureWarning: Pass the following variables as keyword args: x, y. From version 0.12, the only valid positional argument will be `data`, and passing other arguments without an explicit keyword will result in an error or misinterpretation.\n",
      "  warnings.warn(\n"
     ]
    },
    {
     "data": {
      "text/plain": [
       "(0.0, 50000.0)"
      ]
     },
     "execution_count": 6,
     "metadata": {},
     "output_type": "execute_result"
    },
    {
     "data": {
      "image/png": "[encoded data removed]",
      "text/plain": [
       "<Figure size 425.125x360 with 1 Axes>"
      ]
     },
     "metadata": {
      "needs_background": "light"
     },
     "output_type": "display_data"
    }
   ],
   "source": [
    "boots = []\n",
    "for i in range(100, 50000, 1000):\n",
    "    boot = bootstrap_mean_ci(data, data.shape[0], i, 80)\n",
    "    boots.append([i, boot[0], \"mean\"])\n",
    "    boots.append([i, boot[1], \"lower\"])\n",
    "    boots.append([i, boot[2], \"upper\"])\n",
    "\n",
    "df_boot = pd.DataFrame(boots, columns=['Boostrap Iterations', 'Mean', \"Value\"])\n",
    "sns_plot = sns.lmplot(df_boot.columns[0], df_boot.columns[1], data=df_boot, fit_reg=False, hue=\"Value\")\n",
    "\n",
    "sns_plot.axes[0, 0].set_ylim(0,)\n",
    "sns_plot.axes[0, 0].set_xlim(0, 50000)\n",
    "\n",
    "#sns_plot.savefig(\"bootstrap_confidence_80.pdf\", bbox_inches='tight')"
   ]
  },
  {
   "cell_type": "code",
   "execution_count": 7,
   "id": "f9fbe35d",
   "metadata": {},
   "outputs": [
    {
     "name": "stdout",
     "output_type": "stream",
     "text": [
      "   Current fleet  New Fleet\n",
      "0             18       24.0\n",
      "1             15       27.0\n",
      "2             18       27.0\n",
      "3             16       25.0\n",
      "4             17       31.0\n",
      "5             15       35.0\n",
      "6             14       24.0\n",
      "7             14       19.0\n",
      "8             14       28.0\n",
      "9             15       23.0\n",
      "\n",
      "\n",
      "Statiscal Information\n",
      "       Current fleet  New Fleet\n",
      "count     249.000000  79.000000\n",
      "mean       20.144578  30.481013\n",
      "std         6.414699   6.107710\n",
      "min         9.000000  18.000000\n",
      "25%        15.000000  25.500000\n",
      "50%        19.000000  32.000000\n",
      "75%        24.000000  34.000000\n",
      "max        39.000000  47.000000\n"
     ]
    }
   ],
   "source": [
    "# Load and visualise the vehicles dataset\n",
    "# To load the dataset: https://neptune.ai/blog/google-colab-dealing-with-files (check section \"Load individual files directly from GitHub\")\n",
    "\n",
    "\n",
    "# Note that the current and new fleets are in different columns and have different lengths, so bear this in mind when you're plotting.\n",
    "# You can create separate scatterplots for the two fleets, as you would with the histograms, \n",
    "# or plot them both in one plot (but not one against the other).\n",
    "# <---INSERT YOUR CODE HERE--->\n",
    "Vehicle_df = pd.read_csv('https://raw.githubusercontent.com/albanda/CE888/master/lab2%20-%20bootstrap/vehicles.csv')\n",
    "print(Vehicle_df.head(10))\n",
    "print('\\n')\n",
    "print('Statiscal Information')\n",
    "print(Vehicle_df.describe())\n",
    "# Note: you can add more cells as needed to organise your code and your plots"
   ]
  },
  {
   "cell_type": "code",
   "execution_count": 8,
   "id": "0e73ad00",
   "metadata": {
    "scrolled": true
   },
   "outputs": [
    {
     "data": {
      "text/plain": [
       "Current fleet      0\n",
       "New Fleet        170\n",
       "dtype: int64"
      ]
     },
     "execution_count": 8,
     "metadata": {},
     "output_type": "execute_result"
    }
   ],
   "source": [
    "Vehicle_df.isnull().sum()"
   ]
  },
  {
   "cell_type": "code",
   "execution_count": 9,
   "id": "1d07296d",
   "metadata": {},
   "outputs": [
    {
     "data": {
      "text/plain": [
       "<matplotlib.legend.Legend at 0x1d829d320d0>"
      ]
     },
     "execution_count": 9,
     "metadata": {},
     "output_type": "execute_result"
    },
    {
     "data": {
      "image/png": "[encoded data removed]",
      "text/plain": [
       "<Figure size 432x288 with 1 Axes>"
      ]
     },
     "metadata": {
      "needs_background": "light"
     },
     "output_type": "display_data"
    }
   ],
   "source": [
    "plt.plot(Vehicle_df['Current fleet'],color = 'r',label = 'Cur Fleet')\n",
    "plt.plot(Vehicle_df['New Fleet'],color = 'b',label = 'New Fleet')\n",
    "plt.legend()\n"
   ]
  },
  {
   "cell_type": "code",
   "execution_count": 10,
   "id": "5c2357c2",
   "metadata": {},
   "outputs": [
    {
     "data": {
      "text/plain": [
       "<AxesSubplot:xlabel='Current fleet', ylabel='Count'>"
      ]
     },
     "execution_count": 10,
     "metadata": {},
     "output_type": "execute_result"
    },
    {
     "data": {
      "image/png": "[encoded data removed]",
      "text/plain": [
       "<Figure size 432x288 with 1 Axes>"
      ]
     },
     "metadata": {
      "needs_background": "light"
     },
     "output_type": "display_data"
    }
   ],
   "source": [
    "sns.histplot(Vehicle_df['Current fleet'], bins = 40)"
   ]
  },
  {
   "cell_type": "code",
   "execution_count": 11,
   "id": "2df720d9",
   "metadata": {},
   "outputs": [
    {
     "data": {
      "text/plain": [
       "<AxesSubplot:xlabel='New Fleet', ylabel='Count'>"
      ]
     },
     "execution_count": 11,
     "metadata": {},
     "output_type": "execute_result"
    },
    {
     "data": {
      "image/png": "[encoded data removed]",
      "text/plain": [
       "<Figure size 432x288 with 1 Axes>"
      ]
     },
     "metadata": {
      "needs_background": "light"
     },
     "output_type": "display_data"
    }
   ],
   "source": [
    "sns.histplot(Vehicle_df['New Fleet'], bins = 45)"
   ]
  },
  {
   "cell_type": "code",
   "execution_count": 12,
   "id": "b1bcba25",
   "metadata": {},
   "outputs": [
    {
     "name": "stdout",
     "output_type": "stream",
     "text": [
      "Current Fleet mean  20.14457831325301\n",
      "New Fleet mean  30.481012658227847\n"
     ]
    }
   ],
   "source": [
    "# <---INSERT YOUR CODE HERE--->\n",
    "Cur_fl_mean = Vehicle_df['Current fleet'].mean()\n",
    "New_fl_mean = Vehicle_df['New Fleet'].mean()\n",
    "print('Current Fleet mean ', Cur_fl_mean)\n",
    "print('New Fleet mean ', New_fl_mean)"
   ]
  },
  {
   "cell_type": "code",
   "execution_count": 13,
   "id": "b46dacf6",
   "metadata": {},
   "outputs": [],
   "source": [
    "def permutation(Concat_array):\n",
    "  np.random.shuffle(Concat_array)\n",
    "  return Concat_array"
   ]
  },
  {
   "cell_type": "code",
   "execution_count": 14,
   "id": "0b30a10a",
   "metadata": {},
   "outputs": [],
   "source": [
    "# Create your own function for a permutation test here (you will need it for the lab quiz!):\n",
    "def permut_test(sample1, sample2, n_permutations):\n",
    "  count = 0\n",
    "  sample1 = np.array(sample1)\n",
    "  #print(len(sample1))\n",
    "  sample2 = np.array(sample2)\n",
    "  #print(len(sample2))\n",
    "  s1_l = len(sample1)\n",
    "  s1_mean = sample1.mean()\n",
    "  s2_mean = sample2.mean()\n",
    "  tobs = s2_mean - s1_mean\n",
    "  #print(\"Intial mean value :\",tobs)\n",
    "  for i in range(n_permutations):\n",
    "    concat  = np.concatenate((sample1,sample2))\n",
    "    concat = permutation(concat)\n",
    "    new_s1 = concat[:s1_l]\n",
    "    new_s2 = concat[s1_l:]\n",
    "    #print(len(new_s1))\n",
    "    new_s1_mean = new_s1.mean()\n",
    "    new_s2_mean = new_s2.mean()\n",
    "    tperm = new_s2_mean - new_s1_mean\n",
    "    #print(tperm)\n",
    "    if tperm > tobs :\n",
    "      count += 1\n",
    "  pvalue = count/n_permutations\n",
    "  print(\"Permutation value is \", pvalue)\n",
    "  return pvalue"
   ]
  },
  {
   "cell_type": "code",
   "execution_count": 15,
   "id": "e712af49",
   "metadata": {},
   "outputs": [
    {
     "name": "stdout",
     "output_type": "stream",
     "text": [
      "0      18\n",
      "1      15\n",
      "2      18\n",
      "3      16\n",
      "4      17\n",
      "       ..\n",
      "244    27\n",
      "245    27\n",
      "246    32\n",
      "247    28\n",
      "248    31\n",
      "Name: Current fleet, Length: 249, dtype: int64\n",
      "0     24\n",
      "1     27\n",
      "2     27\n",
      "3     25\n",
      "4     31\n",
      "      ..\n",
      "74    34\n",
      "75    38\n",
      "76    32\n",
      "77    38\n",
      "78    32\n",
      "Name: New Fleet, Length: 79, dtype: int64\n"
     ]
    }
   ],
   "source": [
    "old_flt = Vehicle_df['Current fleet'].dropna()\n",
    "new_flt = Vehicle_df['New Fleet'].dropna().astype(\"int64\")\n",
    "print(old_flt)\n",
    "print(new_flt)"
   ]
  },
  {
   "cell_type": "code",
   "execution_count": 16,
   "id": "0e87525e",
   "metadata": {},
   "outputs": [
    {
     "name": "stdout",
     "output_type": "stream",
     "text": [
      "Permutation value is  0.0\n"
     ]
    },
    {
     "data": {
      "text/plain": [
       "0.0"
      ]
     },
     "execution_count": 16,
     "metadata": {},
     "output_type": "execute_result"
    }
   ],
   "source": [
    "permut_test(old_flt,new_flt,2000)"
   ]
  },
  {
   "cell_type": "code",
   "execution_count": 17,
   "id": "906b8366",
   "metadata": {},
   "outputs": [
    {
     "data": {
      "text/plain": [
       "array([18, 15, 18, 16, 17, 15, 14, 14, 14, 15, 15, 14, 15, 14, 22, 18, 21,\n",
       "       21, 10, 10, 11,  9, 28, 25, 19, 16, 17, 19, 18, 14, 14, 14, 14, 12,\n",
       "       13, 13, 18, 22, 19, 18, 23, 26, 25, 20, 21, 13, 14, 15, 14, 17, 11,\n",
       "       13, 12, 13, 15, 13, 13, 14, 22, 28, 13, 14, 13, 14, 15, 12, 13, 13,\n",
       "       14, 13, 12, 13, 18, 16, 18, 18, 23, 11, 12, 13, 12, 18, 21, 19, 21,\n",
       "       15, 16, 15, 11, 20, 21, 19, 15, 26, 25, 16, 16, 18, 16, 13, 14, 14,\n",
       "       14, 28, 19, 18, 15, 15, 16, 15, 16, 14, 17, 16, 15, 18, 21, 20, 13,\n",
       "       23, 20, 23, 18, 19, 25, 26, 18, 16, 16, 15, 22, 22, 24, 23, 29, 25,\n",
       "       20, 18, 19, 18, 27, 13, 17, 13, 13, 13, 30, 26, 18, 17, 16, 15, 18,\n",
       "       21, 19, 19, 16, 16, 16, 16, 25, 26, 31, 34, 36, 20, 19, 20, 19, 21,\n",
       "       20, 25, 21, 19, 21, 21, 19, 18, 19, 18, 18, 18, 30, 31, 23, 24, 22,\n",
       "       20, 22, 20, 21, 17, 18, 17, 18, 17, 16, 19, 19, 36, 27, 23, 24, 34,\n",
       "       35, 28, 29, 27, 34, 32, 28, 26, 24, 19, 28, 24, 27, 27, 26, 24, 30,\n",
       "       39, 35, 34, 30, 22, 27, 20, 18, 28, 27, 34, 31, 29, 27, 24, 23, 38,\n",
       "       36, 25, 38, 26, 22, 36, 27, 27, 32, 28, 31], dtype=int64)"
      ]
     },
     "execution_count": 17,
     "metadata": {},
     "output_type": "execute_result"
    }
   ],
   "source": [
    "np.array(Vehicle_df['Current fleet'])"
   ]
  },
  {
   "cell_type": "code",
   "execution_count": 18,
   "id": "43023c74",
   "metadata": {},
   "outputs": [],
   "source": [
    "old = [0,0,0,0,0,0,1,0,0,1,0]\n",
    "new = [1,0,0,1,1,1,0,0,0,1,0]"
   ]
  },
  {
   "cell_type": "code",
   "execution_count": 19,
   "id": "1ced873d",
   "metadata": {},
   "outputs": [
    {
     "name": "stdout",
     "output_type": "stream",
     "text": [
      "Permutation value is  0.03385\n"
     ]
    },
    {
     "data": {
      "text/plain": [
       "0.03385"
      ]
     },
     "execution_count": 19,
     "metadata": {},
     "output_type": "execute_result"
    }
   ],
   "source": [
    "permut_test(old,new,20000)"
   ]
  },
  {
   "cell_type": "code",
   "execution_count": 20,
   "id": "46338c4b",
   "metadata": {},
   "outputs": [
    {
     "data": {
      "text/plain": [
       "(20.14840642570281, 19.55823293172691, 20.7429718875502)"
      ]
     },
     "execution_count": 20,
     "metadata": {},
     "output_type": "execute_result"
    }
   ],
   "source": [
    "\n",
    "bootstrap_mean_ci(old_flt,len(old_flt),10000,85)"
   ]
  },
  {
   "cell_type": "code",
   "execution_count": 21,
   "id": "e5b75839",
   "metadata": {},
   "outputs": [],
   "source": [
    "dem_share_PA = [60.08, 40.64, 36.07, 41.21, 31.04, 43.78, 44.08, 46.85, 44.71, 46.15, 63.10, 52.20, 43.18, 40.24, 39.92, 47.87, 37.77, 40.11, 49.85, 48.61, 38.62, 54.25, 34.84, 47.75, 43.82, 55.97, 58.23, 42.97, 42.38, 36.11, 37.53, 42.65, 50.96, 47.43, 56.24, 45.60, 46.39, 35.22, 48.56, 32.97, 57.88, 36.05, 37.72, 50.36, 32.12, 41.55, 54.66, 57.81, 54.58, 32.88, 54.37, 40.45, 47.61, 60.49, 43.11, 27.32, 44.03, 33.56, 37.26, 54.64, 43.12, 25.34, 49.79, 83.56, 40.09, 60.81, 49.81]\n",
    "dem_share_OH = [56.94, 50.46, 65.99, 45.88, 42.23, 45.26, 57.01, 53.61, 59.10, 61.48, 43.43, 44.69, 54.59, 48.36, 45.89, 48.62, 43.92, 38.23, 28.79, 63.57, 38.07, 40.18, 43.05, 41.56, 42.49, 36.06, 52.76, 46.07, 39.43, 39.26, 47.47, 27.92, 38.01, 45.45, 29.07, 28.94, 51.28, 50.10, 39.84, 36.43, 35.71, 31.47, 47.01, 40.10, 48.76, 31.56, 39.86, 45.31, 35.47, 51.38, 46.33, 48.73, 41.77, 41.32, 48.46, 53.14, 34.01, 54.74, 40.67, 38.96, 46.29, 38.25, 6.80, 31.75, 46.33, 44.90, 33.57, 38.10, 39.67, 40.47, 49.44, 37.62, 36.71, 46.73, 42.20, 53.16, 52.40, 58.36, 68.02, 38.53, 34.58, 69.64, 60.50, 53.53, 36.54, 49.58, 41.97, 38.11]\n"
   ]
  },
  {
   "cell_type": "code",
   "execution_count": 22,
   "id": "46d90d58",
   "metadata": {},
   "outputs": [
    {
     "data": {
      "text/plain": [
       "88"
      ]
     },
     "execution_count": 22,
     "metadata": {},
     "output_type": "execute_result"
    }
   ],
   "source": [
    "len(dem_share_OH)"
   ]
  },
  {
   "cell_type": "code",
   "execution_count": 23,
   "id": "de40c798",
   "metadata": {},
   "outputs": [
    {
     "data": {
      "text/plain": [
       "67"
      ]
     },
     "execution_count": 23,
     "metadata": {},
     "output_type": "execute_result"
    }
   ],
   "source": [
    "len(dem_share_PA)"
   ]
  },
  {
   "cell_type": "code",
   "execution_count": 24,
   "id": "b719423f",
   "metadata": {},
   "outputs": [],
   "source": [
    "pa = pd.DataFrame(dem_share_PA)"
   ]
  },
  {
   "cell_type": "code",
   "execution_count": 25,
   "id": "c36f5bde",
   "metadata": {},
   "outputs": [
    {
     "data": {
      "text/plain": [
       "0    45.476418\n",
       "dtype: float64"
      ]
     },
     "execution_count": 25,
     "metadata": {},
     "output_type": "execute_result"
    }
   ],
   "source": [
    "pa.mean()"
   ]
  },
  {
   "cell_type": "code",
   "execution_count": 26,
   "id": "d66567f2",
   "metadata": {},
   "outputs": [],
   "source": [
    "oh = pd.DataFrame(dem_share_OH)"
   ]
  },
  {
   "cell_type": "code",
   "execution_count": 27,
   "id": "10e9a0d6",
   "metadata": {},
   "outputs": [],
   "source": [
    "oh = pd.DataFrame(dem_share_OH)\n"
   ]
  },
  {
   "cell_type": "code",
   "execution_count": 28,
   "id": "0d62c744",
   "metadata": {},
   "outputs": [
    {
     "data": {
      "text/plain": [
       "0    44.318182\n",
       "dtype: float64"
      ]
     },
     "execution_count": 28,
     "metadata": {},
     "output_type": "execute_result"
    }
   ],
   "source": [
    "oh.mean()"
   ]
  },
  {
   "cell_type": "code",
   "execution_count": 29,
   "id": "b9cbf017",
   "metadata": {},
   "outputs": [
    {
     "data": {
      "text/plain": [
       "(44.30597299090911, 42.57771590909091, 46.06068749999999)"
      ]
     },
     "execution_count": 29,
     "metadata": {},
     "output_type": "execute_result"
    }
   ],
   "source": [
    "bootstrap_mean_ci(dem_share_OH,len(dem_share_OH),25000,90)"
   ]
  },
  {
   "cell_type": "code",
   "execution_count": 30,
   "id": "03ea0808",
   "metadata": {},
   "outputs": [
    {
     "data": {
      "text/plain": [
       "(45.48486383283583, 43.559671641791056, 47.47241791044776)"
      ]
     },
     "execution_count": 30,
     "metadata": {},
     "output_type": "execute_result"
    }
   ],
   "source": [
    "bootstrap_mean_ci(dem_share_PA,len(dem_share_PA),25000,90)"
   ]
  },
  {
   "cell_type": "code",
   "execution_count": 31,
   "id": "1552f2a5",
   "metadata": {},
   "outputs": [
    {
     "name": "stdout",
     "output_type": "stream",
     "text": [
      "Permutation value is  0.23685\n"
     ]
    },
    {
     "data": {
      "text/plain": [
       "0.23685"
      ]
     },
     "execution_count": 31,
     "metadata": {},
     "output_type": "execute_result"
    }
   ],
   "source": [
    "permut_test(dem_share_OH,dem_share_PA,20000)"
   ]
  },
  {
   "cell_type": "code",
   "execution_count": 32,
   "id": "6aa81fd3",
   "metadata": {},
   "outputs": [],
   "source": [
    "def bootstrap_std_ci(sample, sample_size, n_bootstraps, ci):\n",
    "\t# <---INSERT YOUR CODE HERE--->\n",
    "  mean_array = []\n",
    "  sample = np.array(sample)\n",
    "  bootstrap_array = np.random.choice(sample, size = (n_bootstraps,sample_size),replace = True)\n",
    "  data_mean = bootstrap_array.mean()\n",
    "  mean_array = []\n",
    "  for i in range(bootstrap_array.shape[0]):\n",
    "    mean_array.append(bootstrap_array[i].std())\n",
    "  mean_array.sort()\n",
    "  lower = np.percentile(mean_array,(100 - ci)/2)\n",
    "  upper = np.percentile(mean_array,ci+((100 - ci)/2))\n",
    "  return data_mean, lower, upper"
   ]
  },
  {
   "cell_type": "code",
   "execution_count": 33,
   "id": "85c8fc7f",
   "metadata": {},
   "outputs": [
    {
     "data": {
      "text/plain": [
       "(20.145275502008033, 5.810638442745306, 6.944621464194318)"
      ]
     },
     "execution_count": 33,
     "metadata": {},
     "output_type": "execute_result"
    }
   ],
   "source": [
    "bootstrap_std_ci(old_flt,len(old_flt),10000,95)"
   ]
  },
  {
   "cell_type": "code",
   "execution_count": 34,
   "id": "376927df",
   "metadata": {},
   "outputs": [
    {
     "data": {
      "text/plain": [
       "(9.242257142857143, 7.285714285714286, 11.285714285714286)"
      ]
     },
     "execution_count": 34,
     "metadata": {},
     "output_type": "execute_result"
    }
   ],
   "source": [
    "bootstrap_mean_ci(data, data.shape[0], 10000, 80)"
   ]
  },
  {
   "cell_type": "code",
   "execution_count": 35,
   "id": "6a35df11",
   "metadata": {},
   "outputs": [
    {
     "data": {
      "text/plain": [
       "(9.2017, 3.041339320847317, 7.1059762143694005)"
      ]
     },
     "execution_count": 35,
     "metadata": {},
     "output_type": "execute_result"
    }
   ],
   "source": [
    "bootstrap_std_ci(data, data.shape[0],10000,90)"
   ]
  },
  {
   "cell_type": "code",
   "execution_count": null,
   "id": "3cfe5e86",
   "metadata": {},
   "outputs": [],
   "source": []
  },
  {
   "cell_type": "code",
   "execution_count": null,
   "id": "63d79b83",
   "metadata": {},
   "outputs": [],
   "source": []
  },
  {
   "cell_type": "code",
   "execution_count": null,
   "id": "e1a50b48",
   "metadata": {},
   "outputs": [],
   "source": []
  },
  {
   "cell_type": "code",
   "execution_count": null,
   "id": "7581dc83",
   "metadata": {},
   "outputs": [],
   "source": []
  },
  {
   "cell_type": "code",
   "execution_count": null,
   "id": "ac67329f",
   "metadata": {},
   "outputs": [],
   "source": []
  },
  {
   "cell_type": "code",
   "execution_count": null,
   "id": "626324eb",
   "metadata": {},
   "outputs": [],
   "source": []
  },
  {
   "cell_type": "code",
   "execution_count": null,
   "id": "275a55be",
   "metadata": {},
   "outputs": [],
   "source": []
  },
  {
   "cell_type": "code",
   "execution_count": null,
   "id": "4b32e7c9",
   "metadata": {},
   "outputs": [],
   "source": []
  }
 ],
 "metadata": {
  "kernelspec": {
   "display_name": "Python 3 (ipykernel)",
   "language": "python",
   "name": "python3"
  },
  "language_info": {
   "codemirror_mode": {
    "name": "ipython",
    "version": 3
   },
   "file_extension": ".py",
   "mimetype": "text/x-python",
   "name": "python",
   "nbconvert_exporter": "python",
   "pygments_lexer": "ipython3",
   "version": "3.9.7"
  }
 },
 "nbformat": 4,
 "nbformat_minor": 5
}
